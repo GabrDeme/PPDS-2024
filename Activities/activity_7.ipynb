{
 "cells": [
  {
   "cell_type": "markdown",
   "id": "a06d1022",
   "metadata": {},
   "source": [
    "# Exercício 1"
   ]
  },
  {
   "cell_type": "markdown",
   "id": "7d9b0b38",
   "metadata": {},
   "source": [
    "## Cria uma função que:\n",
    "\n",
    "### - Receba uma lista como argumento;\n",
    "### - Retorna uma lista apenas com os valores pares da lista original;"
   ]
  },
  {
   "cell_type": "code",
   "execution_count": null,
   "id": "39ff33fd",
   "metadata": {},
   "outputs": [],
   "source": [
    "def filter(even):\n",
    "    return [num for num in lista if num % 2 == 0]\n"
   ]
  },
  {
   "cell_type": "markdown",
   "id": "144d5a85",
   "metadata": {},
   "source": [
    "# Exercício 2"
   ]
  },
  {
   "cell_type": "markdown",
   "id": "1d8b9c3e",
   "metadata": {},
   "source": [
    "## Crie uma função que:\n",
    "\n",
    "### - Receba 4 notas de um aluno;\n",
    "### - Calcule a média;\n",
    "### - Retorne uma mensagem com a média final."
   ]
  },
  {
   "cell_type": "code",
   "execution_count": 1,
   "id": "8c477591",
   "metadata": {},
   "outputs": [
    {
     "data": {
      "text/plain": [
       "8.0"
      ]
     },
     "execution_count": 1,
     "metadata": {},
     "output_type": "execute_result"
    }
   ],
   "source": [
    "def media(mark1, mark2, mark3, mark4):\n",
    "    return (mark1 + mark2 + mark3 + mark4) / 4\n",
    "media(8,8,8,8)"
   ]
  },
  {
   "cell_type": "markdown",
   "id": "fd338c3a",
   "metadata": {},
   "source": [
    "# Exercício 3"
   ]
  },
  {
   "cell_type": "markdown",
   "id": "eb714736",
   "metadata": {},
   "source": [
    "## Crie uma função que:\n",
    "\n",
    "### - Receba os 3 lados de um triângulo;\n",
    "### - Classifique o tipo de triângulo sendo: Equilátero, Isóceles ou Escaleno.\n",
    "\n"
   ]
  },
  {
   "cell_type": "code",
   "execution_count": 11,
   "id": "180266c3",
   "metadata": {},
   "outputs": [
    {
     "name": "stdout",
     "output_type": "stream",
     "text": [
      "All 3 sides make a triangle\n"
     ]
    },
    {
     "data": {
      "text/plain": [
       "'It is a Scalene Triangle'"
      ]
     },
     "execution_count": 11,
     "metadata": {},
     "output_type": "execute_result"
    }
   ],
   "source": [
    "def triangle(s1, s2, s3):\n",
    "    if s1 + s2 > s3 or s2 + s3 > s1 or s1 + s3 > s2:\n",
    "        print('All 3 sides make a triangle')\n",
    "        if s1 == s2 == s3: \n",
    "            return('It is a Equilateral Triangle')\n",
    "        elif s1 == s2 or s2 == s3 or s1 == s3:\n",
    "            return('It is a Isosceles Triangle')\n",
    "        else:\n",
    "            return('It is a Scalene Triangle')\n",
    "    else: \n",
    "        return('The 3 sides do not make a triangle')\n",
    "\n",
    "triangle(1,2,3)\n",
    "    "
   ]
  },
  {
   "cell_type": "markdown",
   "id": "cb6f884d",
   "metadata": {},
   "source": [
    "# Exercício 4"
   ]
  },
  {
   "cell_type": "markdown",
   "id": "434a5e97",
   "metadata": {},
   "source": [
    "## Crie uma função que:\n",
    "\n",
    "### - Receba itens de um estoque, com suas quantidades * Similar à estrutura do exercício do banco;\n",
    "### - Retorne uma mensagem ao final com os itens e suas quantidades;"
   ]
  },
  {
   "cell_type": "code",
   "execution_count": 58,
   "id": "869821f7",
   "metadata": {},
   "outputs": [
    {
     "name": "stdin",
     "output_type": "stream",
     "text": [
      "Tell me the product name (or press enter to exit):  a\n",
      "How much of a do we have in stock?  1\n",
      "Tell me the product name (or press enter to exit):  \n"
     ]
    },
    {
     "name": "stdout",
     "output_type": "stream",
     "text": [
      "\n",
      "- Stock Summary -\n",
      "a: 1 units.\n",
      "\n",
      "There are 1 products in the stock.\n"
     ]
    }
   ],
   "source": [
    "def update_stock():\n",
    "    stock = {}\n",
    "\n",
    "    while True:\n",
    "        product = input(\"Tell me the product name: \")\n",
    "        if product:\n",
    "            amount = int(input(f\"How much of {product} do we have in stock? \"))\n",
    "            stock[product] = amount\n",
    "        else:\n",
    "            break \n",
    "\n",
    "    print(\"\\n- Stock Summary -\")\n",
    "\n",
    "    if len(stock) > 0:\n",
    "        for product, amount in stock.items():\n",
    "            print(f\"{product}: {amount} units.\")\n",
    "    else:\n",
    "        print(\"There is nothing in the stock.\")\n",
    "    \n",
    "    print(f\"\\nThere are {sum(stock.values())} products in the stock.\")\n",
    "\n",
    "update_stock()\n",
    "\n"
   ]
  },
  {
   "cell_type": "code",
   "execution_count": null,
   "id": "63757a41-9cd7-49f8-aeba-3c4445b08863",
   "metadata": {},
   "outputs": [],
   "source": []
  }
 ],
 "metadata": {
  "kernelspec": {
   "display_name": "Python 3 (ipykernel)",
   "language": "python",
   "name": "python3"
  },
  "language_info": {
   "codemirror_mode": {
    "name": "ipython",
    "version": 3
   },
   "file_extension": ".py",
   "mimetype": "text/x-python",
   "name": "python",
   "nbconvert_exporter": "python",
   "pygments_lexer": "ipython3",
   "version": "3.12.4"
  }
 },
 "nbformat": 4,
 "nbformat_minor": 5
}
