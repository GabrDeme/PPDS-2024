{
 "cells": [
  {
   "cell_type": "markdown",
   "id": "b0e010a8-e6c7-4177-93c5-2d3d170dca54",
   "metadata": {},
   "source": [
    "# Exercício 1"
   ]
  },
  {
   "cell_type": "markdown",
   "id": "dca1d443-f905-4f8d-a2c2-4cd08aa94266",
   "metadata": {},
   "source": [
    "## Crie uma lista com os nomes de 5 frutas. Em seguida:\n",
    "### - Imprima a primeira e a última fruta da lista.\n",
    "### - Adicione 3 novas frutas à lista.\n",
    "### - Remova a segunda fruta da lista.\n",
    "### - Ordene a lista em ordem alfabética.\n",
    "### - Conte quantas vezes a fruta \"banana\" aparece na lista."
   ]
  },
  {
   "cell_type": "code",
   "execution_count": 104,
   "id": "fc7451ad-00c2-47bc-874f-e0e956cea612",
   "metadata": {},
   "outputs": [],
   "source": [
    "fruits = ['maçã', 'banana', 'pera', 'uva', 'abacaxi']"
   ]
  },
  {
   "cell_type": "code",
   "execution_count": 106,
   "id": "3d6aa69b-227d-4c0a-9e5b-87736808ae6e",
   "metadata": {},
   "outputs": [
    {
     "name": "stdout",
     "output_type": "stream",
     "text": [
      "maçã abacaxi\n"
     ]
    }
   ],
   "source": [
    "print(fruits[0], fruits[-1])"
   ]
  },
  {
   "cell_type": "code",
   "execution_count": 108,
   "id": "794f0a72-d706-4f04-a287-af3fd5a1c25b",
   "metadata": {},
   "outputs": [
    {
     "data": {
      "text/plain": [
       "['maçã', 'banana', 'pera', 'uva', 'abacaxi', 'melancia', 'limão', 'mamão']"
      ]
     },
     "execution_count": 108,
     "metadata": {},
     "output_type": "execute_result"
    }
   ],
   "source": [
    "fruits.extend(['melancia','limão','mamão'])\n",
    "fruits"
   ]
  },
  {
   "cell_type": "code",
   "execution_count": 110,
   "id": "f2f2717a-edba-445c-a19a-392d814d5244",
   "metadata": {},
   "outputs": [
    {
     "data": {
      "text/plain": [
       "['maçã', 'pera', 'uva', 'abacaxi', 'melancia', 'limão', 'mamão']"
      ]
     },
     "execution_count": 110,
     "metadata": {},
     "output_type": "execute_result"
    }
   ],
   "source": [
    "fruits.pop(1)\n",
    "fruits"
   ]
  },
  {
   "cell_type": "code",
   "execution_count": 112,
   "id": "333dc294-a343-40a2-b0dc-592acad6d760",
   "metadata": {},
   "outputs": [
    {
     "data": {
      "text/plain": [
       "['abacaxi', 'limão', 'mamão', 'maçã', 'melancia', 'pera', 'uva']"
      ]
     },
     "execution_count": 112,
     "metadata": {},
     "output_type": "execute_result"
    }
   ],
   "source": [
    "fruits.sort()\n",
    "fruits"
   ]
  },
  {
   "cell_type": "code",
   "execution_count": 138,
   "id": "55c21107-87d4-4ed6-b56a-7c3c34df5076",
   "metadata": {},
   "outputs": [
    {
     "name": "stdout",
     "output_type": "stream",
     "text": [
      "0\n"
     ]
    }
   ],
   "source": [
    "amount = 0\n",
    "for fruit in fruits:\n",
    "    if fruit == 'banana':\n",
    "        amount += 1\n",
    "print(amount)"
   ]
  },
  {
   "cell_type": "markdown",
   "id": "fc30dda1-10d3-4b33-8f7e-4c06eea02b53",
   "metadata": {},
   "source": [
    "# Exercício 2"
   ]
  },
  {
   "cell_type": "markdown",
   "id": "f3cb2cee-34eb-4b0c-a071-34c06c7c6357",
   "metadata": {},
   "source": [
    "## Crie uma tupla com os seguintes elementos: seu nome, sua idade e sua cidade natal. Em seguida:\n",
    "### - Imprima cada elemento da tupla em uma linha separada.\n",
    "### - Tente modificar o primeiro elemento da tupla e observe o que acontece. Explique o motivo.\n",
    "### - Crie uma nova tupla concatenando a tupla original com outra tupla contendo seus hobbies."
   ]
  },
  {
   "cell_type": "code",
   "execution_count": 146,
   "id": "de0a4e3c-1225-49b0-a06a-c607599b9a7a",
   "metadata": {},
   "outputs": [
    {
     "data": {
      "text/plain": [
       "('Gabriel', 17, 'SBC')"
      ]
     },
     "execution_count": 146,
     "metadata": {},
     "output_type": "execute_result"
    }
   ],
   "source": [
    "myself = ('Gabriel', 17, 'SBC')\n",
    "myself"
   ]
  },
  {
   "cell_type": "code",
   "execution_count": 148,
   "id": "2544d0d5-7955-4ed2-a64b-1cdda33ebd76",
   "metadata": {},
   "outputs": [
    {
     "name": "stdout",
     "output_type": "stream",
     "text": [
      "Gabriel\n",
      "17\n",
      "SBC\n"
     ]
    }
   ],
   "source": [
    "for information in myself:\n",
    "    print(information)"
   ]
  },
  {
   "cell_type": "code",
   "execution_count": 154,
   "id": "89a81d98-e492-46c5-89e8-0bece6a34f72",
   "metadata": {},
   "outputs": [],
   "source": [
    "# myself.insert(0, 'NY')\n",
    "# Tuplas são imutáveis"
   ]
  },
  {
   "cell_type": "code",
   "execution_count": null,
   "id": "3bdc0435-d544-43d9-96fa-84be87f6303b",
   "metadata": {},
   "outputs": [],
   "source": [
    "hobbies="
   ]
  },
  {
   "cell_type": "markdown",
   "id": "aee1804e-2d47-47ff-9a65-dfef5b40f68e",
   "metadata": {},
   "source": [
    "# Exercício 3"
   ]
  },
  {
   "cell_type": "markdown",
   "id": "f02aa19b-51b8-4dfb-8a6f-6a1b04c671f1",
   "metadata": {},
   "source": [
    "## Crie um dicionário que represente um contato telefônico. As chaves serão o nome e os valores serão os números de telefone (pode ser mais de um número por pessoa). Em seguida:\n",
    "## - Adicione um novo contato ao dicionário.\n",
    "## - Remova um contato existente.\n",
    "## - Modifique o número de telefone de um contato.\n",
    "## - Imprima todos os nomes dos contatos."
   ]
  },
  {
   "cell_type": "code",
   "execution_count": 132,
   "id": "7d99f80c-73a3-45db-bc05-f63664576cf1",
   "metadata": {},
   "outputs": [],
   "source": [
    "contacts = {'Matheus' : 1194324324, 'Jorge' : 1196782343}"
   ]
  },
  {
   "cell_type": "code",
   "execution_count": 134,
   "id": "453a835d-9077-4974-90c7-6a927077d884",
   "metadata": {},
   "outputs": [
    {
     "data": {
      "text/plain": [
       "{'Matheus': 1194324324, 'Jorge': 1196782343, 'Heitor': 1194738432}"
      ]
     },
     "execution_count": 134,
     "metadata": {},
     "output_type": "execute_result"
    }
   ],
   "source": [
    "contacts.update({'Heitor' : 1194738432})\n",
    "contacts"
   ]
  },
  {
   "cell_type": "code",
   "execution_count": 136,
   "id": "19ef4232-0f60-474e-9471-a34b063c392e",
   "metadata": {},
   "outputs": [
    {
     "data": {
      "text/plain": [
       "{'Jorge': 1196782343, 'Heitor': 1194738432}"
      ]
     },
     "execution_count": 136,
     "metadata": {},
     "output_type": "execute_result"
    }
   ],
   "source": [
    "del contacts['Matheus']\n",
    "contacts"
   ]
  },
  {
   "cell_type": "code",
   "execution_count": 142,
   "id": "49ab2188-dc1a-4380-b4db-7d0f956315ff",
   "metadata": {},
   "outputs": [
    {
     "data": {
      "text/plain": [
       "{'Jorge': 1196782343, 'Heitor': 1190986437}"
      ]
     },
     "execution_count": 142,
     "metadata": {},
     "output_type": "execute_result"
    }
   ],
   "source": [
    "contacts.update({'Heitor': 1190986437})\n",
    "contacts"
   ]
  },
  {
   "cell_type": "code",
   "execution_count": 144,
   "id": "519bbe83-2673-4215-91fb-3e629bb3f1fd",
   "metadata": {},
   "outputs": [
    {
     "name": "stdout",
     "output_type": "stream",
     "text": [
      "Jorge\n",
      "Heitor\n"
     ]
    }
   ],
   "source": [
    "for contact in contacts.keys():\n",
    "    print(contact)"
   ]
  },
  {
   "cell_type": "markdown",
   "id": "11b037eb-33ba-409c-875c-30d22a648a1d",
   "metadata": {},
   "source": [
    "# Exercício 4"
   ]
  },
  {
   "cell_type": "markdown",
   "id": "ca3e921e-3971-4dc4-9ea3-1fcc801104b6",
   "metadata": {},
   "source": [
    "## Crie um programa que simule um cadastro de produtos de uma loja. Cada produto terá um nome, preço e quantidade em estoque. Utilize um dicionário para armazenar os produtos. O programa deve permitir:\n",
    "### - Cadastrar novos produtos.\n",
    "### - Consultar informações de um produto específico.\n",
    "### - Alterar o preço de um produto.\n",
    "### - Remover um produto do cadastro."
   ]
  },
  {
   "cell_type": "code",
   "execution_count": 176,
   "id": "01579f85-dc33-4658-afc4-a3077fa902eb",
   "metadata": {},
   "outputs": [],
   "source": [
    "def register_product(products):\n",
    "    name = input(\"Tell me product's name: \")\n",
    "    price = float(input(\"Tell me the product's price: \"))\n",
    "    amount = int(input(\"Tell me how much do you have of it: \"))\n",
    "    products[name] = {'price': price, 'amount': amount}\n",
    "    print(f\"{name} was sucessfully registered!\")"
   ]
  },
  {
   "cell_type": "code",
   "execution_count": 194,
   "id": "fffe0366-0c69-48f1-8439-943b94bac628",
   "metadata": {},
   "outputs": [],
   "source": [
    "def get_product(products):\n",
    "    name = input(\"Enter the product name for consultation: \")\n",
    "    if name in products:\n",
    "        info = products[name]\n",
    "        print(f\"Product: {name}, Price: {info['price']}, Quantity: {info['amount']}\")\n",
    "    else:\n",
    "        print(\"Product not found.\")"
   ]
  },
  {
   "cell_type": "code",
   "execution_count": 188,
   "id": "a3cc4767-dd18-4be9-804b-84dbfa009285",
   "metadata": {},
   "outputs": [],
   "source": [
    "def change_price(products):\n",
    "    name = input(\"Enter the product name to change the price: \")\n",
    "    if name in products:\n",
    "        new_price = float(input(\"Enter the new price: \"))\n",
    "        products[name]['price'] = new_price\n",
    "        print(f\"Price of {name} successfully changed!\")\n",
    "    else:\n",
    "        print(\"Product not found.\")"
   ]
  },
  {
   "cell_type": "code",
   "execution_count": 190,
   "id": "ffa12178-5f00-4da7-97ca-d9a760dd89b5",
   "metadata": {},
   "outputs": [],
   "source": [
    "def remove_product(products):\n",
    "    name = input(\"Enter the product name to remove: \")\n",
    "    if name in products:\n",
    "        del products[name]\n",
    "        print(f\"{name} successfully removed!\")\n",
    "    else:\n",
    "        print(\"Product not found.\")"
   ]
  },
  {
   "cell_type": "code",
   "execution_count": null,
   "id": "a24b4dc8-245a-4876-9023-21534c821c50",
   "metadata": {},
   "outputs": [
    {
     "name": "stdout",
     "output_type": "stream",
     "text": [
      "\n",
      "Menu:\n",
      "1. Register product\n",
      "2. Consult product\n",
      "3. Change price\n",
      "4. Remove product\n",
      "5. Exit\n"
     ]
    },
    {
     "name": "stdin",
     "output_type": "stream",
     "text": [
      "Choose an option:  Egg\n"
     ]
    },
    {
     "name": "stdout",
     "output_type": "stream",
     "text": [
      "Invalid option. Please try again.\n",
      "\n",
      "Menu:\n",
      "1. Register product\n",
      "2. Consult product\n",
      "3. Change price\n",
      "4. Remove product\n",
      "5. Exit\n"
     ]
    },
    {
     "name": "stdin",
     "output_type": "stream",
     "text": [
      "Choose an option:  1\n",
      "Tell me product's name:  Egg\n",
      "Tell me the product's price:  1\n",
      "Tell me how much do you have of it:  200\n"
     ]
    },
    {
     "name": "stdout",
     "output_type": "stream",
     "text": [
      "Egg was sucessfully registered!\n",
      "\n",
      "Menu:\n",
      "1. Register product\n",
      "2. Consult product\n",
      "3. Change price\n",
      "4. Remove product\n",
      "5. Exit\n"
     ]
    },
    {
     "name": "stdin",
     "output_type": "stream",
     "text": [
      "Choose an option:  2\n",
      "Enter the product name for consultation:  Egg\n"
     ]
    },
    {
     "name": "stdout",
     "output_type": "stream",
     "text": [
      "Product: Egg, Price: 1.0, Quantity: 200\n",
      "\n",
      "Menu:\n",
      "1. Register product\n",
      "2. Consult product\n",
      "3. Change price\n",
      "4. Remove product\n",
      "5. Exit\n"
     ]
    },
    {
     "name": "stdin",
     "output_type": "stream",
     "text": [
      "Choose an option:  3\n",
      "Enter the product name to change the price:  Egg\n",
      "Enter the new price:  2\n"
     ]
    },
    {
     "name": "stdout",
     "output_type": "stream",
     "text": [
      "Price of Egg successfully changed!\n",
      "\n",
      "Menu:\n",
      "1. Register product\n",
      "2. Consult product\n",
      "3. Change price\n",
      "4. Remove product\n",
      "5. Exit\n"
     ]
    },
    {
     "name": "stdin",
     "output_type": "stream",
     "text": [
      "Choose an option:  4\n",
      "Enter the product name to remove:  Egg\n"
     ]
    },
    {
     "name": "stdout",
     "output_type": "stream",
     "text": [
      "Egg successfully removed!\n",
      "\n",
      "Menu:\n",
      "1. Register product\n",
      "2. Consult product\n",
      "3. Change price\n",
      "4. Remove product\n",
      "5. Exit\n"
     ]
    },
    {
     "name": "stdin",
     "output_type": "stream",
     "text": [
      "Choose an option:  2\n",
      "Enter the product name for consultation:  Egg\n"
     ]
    },
    {
     "name": "stdout",
     "output_type": "stream",
     "text": [
      "Product not found.\n",
      "\n",
      "Menu:\n",
      "1. Register product\n",
      "2. Consult product\n",
      "3. Change price\n",
      "4. Remove product\n",
      "5. Exit\n"
     ]
    }
   ],
   "source": [
    "def main():\n",
    "    products = {}\n",
    "    while True:\n",
    "        print(\"\\nMenu:\")\n",
    "        print(\"1. Register product\")\n",
    "        print(\"2. Consult product\")\n",
    "        print(\"3. Change price\")\n",
    "        print(\"4. Remove product\")\n",
    "        print(\"5. Exit\")\n",
    "        \n",
    "        option = input(\"Choose an option: \")\n",
    "        \n",
    "        if option == '1':\n",
    "            register_product(products)\n",
    "        elif option == '2':\n",
    "            get_product(products)\n",
    "        elif option == '3':\n",
    "            change_price(products)\n",
    "        elif option == '4':\n",
    "            remove_product(products)\n",
    "        elif option == '5':\n",
    "            break\n",
    "        else:\n",
    "            print(\"Invalid option. Please try again.\")\n",
    "main()"
   ]
  },
  {
   "cell_type": "markdown",
   "id": "b352bd68-3ccf-43ef-8fa4-13b584984c90",
   "metadata": {},
   "source": [
    "# Exercício 5"
   ]
  },
  {
   "cell_type": "markdown",
   "id": "93e8d280-3a46-4f55-855b-50e19608a053",
   "metadata": {},
   "source": [
    "## Crie uma lista de dicionários para representar um conjunto de alunos. Cada dicionário deve conter as seguintes informações: nome, idade, notas (uma lista com as notas de todas as provas). Em seguida:\n",
    "### - Calcule a média de cada aluno.\n",
    "### - Encontre o aluno com a maior média.\n",
    "### - Ordene os alunos por idade.\n",
    "### - Crie uma nova lista contendo apenas os nomes dos alunos com média acima de 7."
   ]
  },
  {
   "cell_type": "code",
   "execution_count": 11,
   "id": "2d03e213-4e28-4f83-84cf-8daaa5c19704",
   "metadata": {},
   "outputs": [],
   "source": [
    "students = [\n",
    "    {'name': 'Alice', 'age': 20, 'grades': [8, 7, 9]},\n",
    "    {'name': 'Bob', 'age': 22, 'grades': [6, 5, 7]},\n",
    "    {'name': 'Charlie', 'age': 21, 'grades': [9, 8, 10]},\n",
    "    {'name': 'David', 'age': 19, 'grades': [5, 6, 7]}\n",
    "]"
   ]
  },
  {
   "cell_type": "code",
   "execution_count": 13,
   "id": "50075c01-3929-4eaa-aff5-e00567761dc6",
   "metadata": {},
   "outputs": [
    {
     "name": "stdout",
     "output_type": "stream",
     "text": [
      "Students media:\n",
      "Alice: 8.00\n",
      "Bob: 6.00\n",
      "Charlie: 9.00\n",
      "David: 6.00\n",
      "Charlie got the highest grade with 9.00 points\n",
      "\n",
      "Students by age:\n",
      "Bob - Age: 22\n",
      "Charlie - Age: 21\n",
      "Alice - Age: 20\n",
      "David - Age: 19\n",
      "\n",
      "Students with media above 7: \n",
      "['Charlie', 'Alice']\n"
     ]
    }
   ],
   "source": [
    "def media(student):\n",
    "    return sum(student['grades']) / len(student['grades'])\n",
    "\n",
    "# Calculate media for each student and print\n",
    "print('Students media:')\n",
    "for student in students:\n",
    "    student['media'] = media(student)\n",
    "    print(f\"{student['name']}: {student['media']:.2f}\")\n",
    "\n",
    "# Find the student with the highest media\n",
    "highest_grade = max(students, key=lambda x: x['media'])\n",
    "print(f\"{highest_grade['name']} got the highest grade with {highest_grade['media']:.2f} points\\n\")\n",
    "\n",
    "# Sort students by age\n",
    "students.sort(key=lambda x: x['age'], reverse=True)\n",
    "print('Students by age:')\n",
    "for student in students:\n",
    "    print(f\"{student['name']} - Age: {student['age']}\")\n",
    "\n",
    "# List students with media above 7\n",
    "student_above_media = [student['name'] for student in students if student['media'] > 7]\n",
    "print(f'\\nStudents with media above 7: \\n{student_above_media}')\n"
   ]
  },
  {
   "cell_type": "code",
   "execution_count": null,
   "id": "53b488d1-446f-43c8-ba47-b5eaf9ba908c",
   "metadata": {},
   "outputs": [],
   "source": []
  }
 ],
 "metadata": {
  "kernelspec": {
   "display_name": "Python 3 (ipykernel)",
   "language": "python",
   "name": "python3"
  },
  "language_info": {
   "codemirror_mode": {
    "name": "ipython",
    "version": 3
   },
   "file_extension": ".py",
   "mimetype": "text/x-python",
   "name": "python",
   "nbconvert_exporter": "python",
   "pygments_lexer": "ipython3",
   "version": "3.12.4"
  }
 },
 "nbformat": 4,
 "nbformat_minor": 5
}
