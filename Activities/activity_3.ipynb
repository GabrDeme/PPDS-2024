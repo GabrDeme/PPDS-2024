{
 "cells": [
  {
   "cell_type": "markdown",
   "id": "0b186b30",
   "metadata": {},
   "source": [
    "# Exercício 1"
   ]
  },
  {
   "cell_type": "markdown",
   "id": "6525df42",
   "metadata": {},
   "source": [
    "### Crie um programa que imprima uma mensagem com seu nome, idade e altura, usando:"
   ]
  },
  {
   "cell_type": "code",
   "execution_count": 26,
   "id": "ebe95dd6-169b-4215-9b73-3df17422b001",
   "metadata": {},
   "outputs": [],
   "source": [
    "name = \"Gabriel\"\n",
    "age = 17\n",
    "height = 1.77"
   ]
  },
  {
   "cell_type": "markdown",
   "id": "8d3fd25c",
   "metadata": {},
   "source": [
    "#### - Concatenação de Strings"
   ]
  },
  {
   "cell_type": "code",
   "execution_count": 10,
   "id": "fece169b",
   "metadata": {},
   "outputs": [
    {
     "name": "stdout",
     "output_type": "stream",
     "text": [
      "Hi, my name is Gabriel, I am 17 and my height is 1.77cm.\n"
     ]
    }
   ],
   "source": [
    "print(\"Hi, my name is \" + name + \", I am \" + str(age) + \" and my height is \" + str(height) + \"cm.\")"
   ]
  },
  {
   "cell_type": "markdown",
   "id": "67a6e9ae",
   "metadata": {},
   "source": [
    "#### - f-String"
   ]
  },
  {
   "cell_type": "code",
   "execution_count": 24,
   "id": "0fde0f69",
   "metadata": {},
   "outputs": [
    {
     "name": "stdout",
     "output_type": "stream",
     "text": [
      "Hi, my name is Gabriel, I am 17 and my height is 1.77cm.\n"
     ]
    }
   ],
   "source": [
    "print(f\"Hi, my name is {name}, I am {age} and my height is {height}cm.\")"
   ]
  },
  {
   "cell_type": "markdown",
   "id": "05c15f55-cd6e-4bac-98f2-e80e4a102dca",
   "metadata": {},
   "source": [
    "# Exercicio 2"
   ]
  },
  {
   "cell_type": "markdown",
   "id": "2e9f178f",
   "metadata": {},
   "source": [
    "### Crie um programa que receba os dados cadastrais de um cliente, sendo eles:\n",
    "\n",
    "#### - Nome:\n",
    "#### - Idade:\n",
    "#### - Cidade:\n",
    "#### - Estado:\n",
    "\n",
    "### Ao final, printe uma mensagem de finalização do cadastro do cliente, usando os dados do mesmo."
   ]
  },
  {
   "cell_type": "markdown",
   "id": "f5ecc678",
   "metadata": {},
   "source": [
    "#### - Nome:"
   ]
  },
  {
   "cell_type": "code",
   "execution_count": 68,
   "id": "b8784bbc",
   "metadata": {},
   "outputs": [
    {
     "name": "stdin",
     "output_type": "stream",
     "text": [
      "What is your name? Gabriel\n"
     ]
    }
   ],
   "source": [
    "name = input(\"What is your name?\")"
   ]
  },
  {
   "cell_type": "markdown",
   "id": "11069cce",
   "metadata": {},
   "source": [
    "#### - Idade:"
   ]
  },
  {
   "cell_type": "code",
   "execution_count": 70,
   "id": "85d58896",
   "metadata": {},
   "outputs": [
    {
     "name": "stdin",
     "output_type": "stream",
     "text": [
      "Type your age:  17\n"
     ]
    }
   ],
   "source": [
    "age = int(input(\"Type your age: \"))"
   ]
  },
  {
   "cell_type": "markdown",
   "id": "99307660",
   "metadata": {},
   "source": [
    "#### - Cidade:"
   ]
  },
  {
   "cell_type": "code",
   "execution_count": 56,
   "id": "166812ce",
   "metadata": {},
   "outputs": [
    {
     "name": "stdin",
     "output_type": "stream",
     "text": [
      "Where do you live? SBC\n"
     ]
    }
   ],
   "source": [
    "city = input(\"Where do you live?\")"
   ]
  },
  {
   "cell_type": "markdown",
   "id": "a415762c",
   "metadata": {},
   "source": [
    "#### - Estado:"
   ]
  },
  {
   "cell_type": "code",
   "execution_count": 58,
   "id": "3d46c42d",
   "metadata": {},
   "outputs": [
    {
     "name": "stdin",
     "output_type": "stream",
     "text": [
      "What about your State? SP\n"
     ]
    }
   ],
   "source": [
    "state = input(\"What about your State?\")"
   ]
  },
  {
   "cell_type": "markdown",
   "id": "6198a0b5-9229-4543-abf8-cacc8a4df7c1",
   "metadata": {},
   "source": [
    "### Mensagem de finalização de cadastro: "
   ]
  },
  {
   "cell_type": "code",
   "execution_count": 66,
   "id": "e985b6c7-12b9-41c6-99e9-614bd62a4a23",
   "metadata": {},
   "outputs": [
    {
     "name": "stdout",
     "output_type": "stream",
     "text": [
      "Congratulations, you have signed in and your informations are: \n",
      "Your name is Gabriel, you are 17 years old and you live in SBC, SP.\n"
     ]
    }
   ],
   "source": [
    "print(\"Congratulations, you have signed in and your informations are: \")\n",
    "print(f\"Your name is {name}, you are {age} years old and you live in {city}, {state}.\")"
   ]
  }
 ],
 "metadata": {
  "kernelspec": {
   "display_name": "Python 3 (ipykernel)",
   "language": "python",
   "name": "python3"
  },
  "language_info": {
   "codemirror_mode": {
    "name": "ipython",
    "version": 3
   },
   "file_extension": ".py",
   "mimetype": "text/x-python",
   "name": "python",
   "nbconvert_exporter": "python",
   "pygments_lexer": "ipython3",
   "version": "3.12.4"
  }
 },
 "nbformat": 4,
 "nbformat_minor": 5
}
