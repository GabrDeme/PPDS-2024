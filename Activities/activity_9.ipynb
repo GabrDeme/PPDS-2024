{
 "cells": [
  {
   "cell_type": "markdown",
   "id": "f9bb2fed-35cd-4697-99cf-3b832a4ad8aa",
   "metadata": {},
   "source": [
    "# Exercício 1"
   ]
  },
  {
   "cell_type": "markdown",
   "id": "9c78b40e-0640-461b-9b9b-4bbc23d5a379",
   "metadata": {},
   "source": [
    "## Crie uma lista de números inteiros. Utilize map e uma expressão lambda para dobrar cada número da lista. Em seguida, utilize filter e outra expressão lambda para filtrar apenas os números ímpares do resultado."
   ]
  },
  {
   "cell_type": "code",
   "execution_count": null,
   "id": "77de1116-f8bb-452f-b635-1d54e648132e",
   "metadata": {},
   "outputs": [
    {
     "ename": "",
     "evalue": "",
     "output_type": "error",
     "traceback": [
      "\u001b[1;31mRunning cells with 'c:\\Users\\Usuario\\AppData\\Local\\Programs\\Python\\Python313-32\\python.exe' requires the ipykernel package.\n",
      "\u001b[1;31mRun the following command to install 'ipykernel' into the Python environment. \n",
      "\u001b[1;31mCommand: 'c:/Users/Usuario/AppData/Local/Programs/Python/Python313-32/python.exe -m pip install ipykernel -U --user --force-reinstall'"
     ]
    }
   ],
   "source": [
    "integers_numbers = [10, 8, 7, 6, 5, 4, 2]\n",
    "print(f\"Original numbers: {integers_numbers}\")\n",
    "\n",
    "double = list(map(lambda x: x * 2, integers_numbers))\n",
    "print(f\"Doubled numbers: {double}\")\n",
    "\n",
    "filtered_numbers = list(filter(lambda x: x % 2 != 0, integers_numbers))\n",
    "print(f\"Only odd numbers: {filtered_numbers}\")"
   ]
  },
  {
   "cell_type": "markdown",
   "id": "2ca82905-aa74-4d19-9831-2fa2f78ee13a",
   "metadata": {},
   "source": [
    "# Exercício 2"
   ]
  },
  {
   "cell_type": "markdown",
   "id": "f1b6ba2d-96f8-4f12-bea9-9b8fd0b7d565",
   "metadata": {},
   "source": [
    "## Crie uma lista de palavras. Utilize map e uma expressão lambda para converter todas as palavras para maiúsculas. Em seguida, utilize filter e outra expressão lambda para filtrar as palavras com mais de 5 caracteres."
   ]
  },
  {
   "cell_type": "code",
   "execution_count": null,
   "id": "a8dbd40b-7c20-41bf-97f1-b485b1d176b3",
   "metadata": {},
   "outputs": [],
   "source": [
    "words = [banana, groups, life]\n",
    "print(f\"Original words: {words}\")\n",
    "\n",
    "capital_convertion = list(map(lambda x: x.upper(), words))\n",
    "print(f\"All in capital letters: {capital_convertion}\")\n",
    "\n",
    "five_more = list(filter(lambda x: len(x) > 5, capital_convertion))\n",
    "print(f\"Only words with more than 5 letters: {five_more}\")"
   ]
  },
  {
   "cell_type": "markdown",
   "id": "b301f5b7-8e4e-4f5b-bf50-4122718b21e9",
   "metadata": {},
   "source": [
    "# Exercício 3"
   ]
  },
  {
   "cell_type": "markdown",
   "id": "4482cdb1-cc51-4d80-8140-a95f700f5cd7",
   "metadata": {},
   "source": [
    "## Crie uma lista de números inteiros positivos e negativos. Utilize filter e map para calcular o quadrado apenas dos números positivos."
   ]
  },
  {
   "cell_type": "code",
   "execution_count": null,
   "id": "529aa6fe-9487-41a2-8377-68af511bfde6",
   "metadata": {},
   "outputs": [],
   "source": [
    "numbers = [-2, -1, 0, 1, 2]\n",
    "print(f\"Original numbers: {numbers}\")\n",
    "\n",
    "positive = list(filter(lambda x: x > 0, numbers))\n",
    "squared = list(map(lambda x: x * x, positive))\n",
    "print(f\"The squred number of the positive ones are: {squared}\")"
   ]
  },
  {
   "cell_type": "markdown",
   "id": "253fe0aa-fc15-4e7a-8f3a-39492ecaf46a",
   "metadata": {},
   "source": [
    "# Exercício 4"
   ]
  },
  {
   "cell_type": "markdown",
   "id": "b788b247-0067-4ebe-83f6-32b2287cdf7c",
   "metadata": {},
   "source": [
    "## Crie uma lista de nomes. Utilize map e uma expressão lambda para criar uma nova lista contendo apenas o primeiro caractere de cada nome."
   ]
  },
  {
   "cell_type": "code",
   "execution_count": null,
   "id": "4ebe1f47-b87b-4a7d-9ef9-7cb6783b568a",
   "metadata": {},
   "outputs": [],
   "source": [
    "names = [Carlos, Eduardo, Felisandro]\n",
    "\n",
    "first_letter = list(map(lambda x: x[0], names))\n",
    "\n",
    "print(f\"Name: {names}, first name's letter: {first_letter} \")"
   ]
  },
  {
   "cell_type": "markdown",
   "id": "6297ef3e-299c-4bd9-bb99-f37ca3cd5a6c",
   "metadata": {},
   "source": [
    "# Exercício 5"
   ]
  },
  {
   "cell_type": "markdown",
   "id": "57a8179d-62c1-454f-bfd6-187d9ce975c4",
   "metadata": {},
   "source": [
    "## Crie uma lista de dicionários, onde cada dicionário representa um funcionário com os atributos \"nome\" e \"salario\". Utilize map e uma expressão lambda para aumentar o salário de cada funcionário em 10%."
   ]
  },
  {
   "cell_type": "code",
   "execution_count": null,
   "id": "ce549c1d-f6cc-4714-bcb3-0f8aeb64310b",
   "metadata": {},
   "outputs": [],
   "source": [
    "workers = [\n",
    "    {\"name\": \"Alice\", \"salary\": 5000},\n",
    "    {\"name\": \"Bob\", \"salary\": 4500},\n",
    "    {\"name\": \"Carlos\", \"salary\": 6000},\n",
    "    {\"name\": \"Diana\", \"salary\": 5500},\n",
    "    {\"name\": \"Eduardo\", \"salary\": 7000}\n",
    "]\n",
    "\n",
    "new_salary = list(map(lambda workers: {\n",
    "    \"name\": workers[\"name\"],\n",
    "    \"salary\": workers[\"salary\"] * 1.1\n",
    "}, workers))\n",
    "\n",
    "for workers in new_salary:\n",
    "    print(f\"Name: {workers['name']}, Salary: {workers['salary']:.2f}\")"
   ]
  },
  {
   "cell_type": "markdown",
   "id": "5197ad90-5e64-44c0-882d-71d3f00c4b2a",
   "metadata": {},
   "source": []
  },
  {
   "cell_type": "markdown",
   "id": "16991410-15fb-4b97-a0c2-d9e27577a43b",
   "metadata": {},
   "source": []
  },
  {
   "cell_type": "code",
   "execution_count": null,
   "id": "adc8fe1f-7f61-4396-8fb3-180e404fe89e",
   "metadata": {},
   "outputs": [],
   "source": []
  }
 ],
 "metadata": {
  "kernelspec": {
   "display_name": "Python 3 (ipykernel)",
   "language": "python",
   "name": "python3"
  },
  "language_info": {
   "codemirror_mode": {
    "name": "ipython",
    "version": 3
   },
   "file_extension": ".py",
   "mimetype": "text/x-python",
   "name": "python",
   "nbconvert_exporter": "python",
   "pygments_lexer": "ipython3",
   "version": "3.13.0"
  }
 },
 "nbformat": 4,
 "nbformat_minor": 5
}
